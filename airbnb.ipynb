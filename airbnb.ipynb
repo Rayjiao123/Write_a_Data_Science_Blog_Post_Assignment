{
 "cells": [
  {
   "cell_type": "code",
   "execution_count": 1,
   "metadata": {},
   "outputs": [],
   "source": [
    "import numpy as np\n",
    "import pandas as pd\n",
    "import matplotlib.pyplot as plt\n",
    "from sklearn.linear_model import LinearRegression\n",
    "from sklearn.model_selection import train_test_split\n",
    "from sklearn.metrics import r2_score, mean_squared_error\n",
    "import seaborn as sns\n",
    "%matplotlib inline"
   ]
  },
  {
   "cell_type": "code",
   "execution_count": 2,
   "metadata": {},
   "outputs": [
    {
     "name": "stdout",
     "output_type": "stream",
     "text": [
      "   listing_id        date available   price\n",
      "0      241032  2016-01-04         t  $85.00\n",
      "1      241032  2016-01-05         t  $85.00\n",
      "2      241032  2016-01-06         f     NaN\n",
      "3      241032  2016-01-07         f     NaN\n",
      "4      241032  2016-01-08         f     NaN\n"
     ]
    }
   ],
   "source": [
    "df_calendar = pd.read_csv('data/calendar.csv')\n",
    "df_listings = pd.read_csv('data/listings.csv')\n",
    "df_reviews = pd.read_csv('data/reviews.csv')\n",
    "\n",
    "print(df_calendar.head())\n"
   ]
  },
  {
   "cell_type": "code",
   "execution_count": 3,
   "metadata": {},
   "outputs": [
    {
     "name": "stdout",
     "output_type": "stream",
     "text": [
      "   listing_id        id        date  reviewer_id reviewer_name  \\\n",
      "0     7202016  38917982  2015-07-19     28943674        Bianca   \n",
      "1     7202016  39087409  2015-07-20     32440555         Frank   \n",
      "2     7202016  39820030  2015-07-26     37722850           Ian   \n",
      "3     7202016  40813543  2015-08-02     33671805        George   \n",
      "4     7202016  41986501  2015-08-10     34959538          Ming   \n",
      "\n",
      "                                            comments  \n",
      "0  Cute and cozy place. Perfect location to every...  \n",
      "1  Kelly has a great room in a very central locat...  \n",
      "2  Very spacious apartment, and in a great neighb...  \n",
      "3  Close to Seattle Center and all it has to offe...  \n",
      "4  Kelly was a great host and very accommodating ...  \n"
     ]
    }
   ],
   "source": [
    "print(df_reviews.head())"
   ]
  },
  {
   "cell_type": "code",
   "execution_count": 4,
   "metadata": {
    "collapsed": true,
    "jupyter": {
     "outputs_hidden": true
    }
   },
   "outputs": [
    {
     "name": "stdout",
     "output_type": "stream",
     "text": [
      "        id                           listing_url       scrape_id last_scraped  \\\n",
      "0   241032   https://www.airbnb.com/rooms/241032  20160104002432   2016-01-04   \n",
      "1   953595   https://www.airbnb.com/rooms/953595  20160104002432   2016-01-04   \n",
      "2  3308979  https://www.airbnb.com/rooms/3308979  20160104002432   2016-01-04   \n",
      "3  7421966  https://www.airbnb.com/rooms/7421966  20160104002432   2016-01-04   \n",
      "4   278830   https://www.airbnb.com/rooms/278830  20160104002432   2016-01-04   \n",
      "\n",
      "                                  name  \\\n",
      "0         Stylish Queen Anne Apartment   \n",
      "1   Bright & Airy Queen Anne Apartment   \n",
      "2  New Modern House-Amazing water view   \n",
      "3                   Queen Anne Chateau   \n",
      "4       Charming craftsman 3 bdm house   \n",
      "\n",
      "                                             summary  \\\n",
      "0                                                NaN   \n",
      "1  Chemically sensitive? We've removed the irrita...   \n",
      "2  New modern house built in 2013.  Spectacular s...   \n",
      "3  A charming apartment that sits atop Queen Anne...   \n",
      "4  Cozy family craftman house in beautiful neighb...   \n",
      "\n",
      "                                               space  \\\n",
      "0  Make your self at home in this charming one-be...   \n",
      "1  Beautiful, hypoallergenic apartment in an extr...   \n",
      "2  Our house is modern, light and fresh with a wa...   \n",
      "3                                                NaN   \n",
      "4  Cozy family craftman house in beautiful neighb...   \n",
      "\n",
      "                                         description experiences_offered  \\\n",
      "0  Make your self at home in this charming one-be...                none   \n",
      "1  Chemically sensitive? We've removed the irrita...                none   \n",
      "2  New modern house built in 2013.  Spectacular s...                none   \n",
      "3  A charming apartment that sits atop Queen Anne...                none   \n",
      "4  Cozy family craftman house in beautiful neighb...                none   \n",
      "\n",
      "                               neighborhood_overview  ... review_scores_value  \\\n",
      "0                                                NaN  ...                10.0   \n",
      "1  Queen Anne is a wonderful, truly functional vi...  ...                10.0   \n",
      "2  Upper Queen Anne is a charming neighborhood fu...  ...                10.0   \n",
      "3                                                NaN  ...                 NaN   \n",
      "4  We are in the beautiful neighborhood of Queen ...  ...                 9.0   \n",
      "\n",
      "  requires_license license jurisdiction_names instant_bookable  \\\n",
      "0                f     NaN         WASHINGTON                f   \n",
      "1                f     NaN         WASHINGTON                f   \n",
      "2                f     NaN         WASHINGTON                f   \n",
      "3                f     NaN         WASHINGTON                f   \n",
      "4                f     NaN         WASHINGTON                f   \n",
      "\n",
      "  cancellation_policy  require_guest_profile_picture  \\\n",
      "0            moderate                              f   \n",
      "1              strict                              t   \n",
      "2              strict                              f   \n",
      "3            flexible                              f   \n",
      "4              strict                              f   \n",
      "\n",
      "  require_guest_phone_verification calculated_host_listings_count  \\\n",
      "0                                f                              2   \n",
      "1                                t                              6   \n",
      "2                                f                              2   \n",
      "3                                f                              1   \n",
      "4                                f                              1   \n",
      "\n",
      "  reviews_per_month  \n",
      "0              4.07  \n",
      "1              1.48  \n",
      "2              1.15  \n",
      "3               NaN  \n",
      "4              0.89  \n",
      "\n",
      "[5 rows x 92 columns]\n"
     ]
    }
   ],
   "source": [
    "print(df_listings.head())"
   ]
  },
  {
   "cell_type": "code",
   "execution_count": 5,
   "metadata": {},
   "outputs": [
    {
     "data": {
      "text/html": [
       "<div>\n",
       "<style scoped>\n",
       "    .dataframe tbody tr th:only-of-type {\n",
       "        vertical-align: middle;\n",
       "    }\n",
       "\n",
       "    .dataframe tbody tr th {\n",
       "        vertical-align: top;\n",
       "    }\n",
       "\n",
       "    .dataframe thead th {\n",
       "        text-align: right;\n",
       "    }\n",
       "</style>\n",
       "<table border=\"1\" class=\"dataframe\">\n",
       "  <thead>\n",
       "    <tr style=\"text-align: right;\">\n",
       "      <th></th>\n",
       "      <th>listing_id</th>\n",
       "      <th>date_x</th>\n",
       "      <th>available</th>\n",
       "      <th>price</th>\n",
       "      <th>id</th>\n",
       "      <th>date_y</th>\n",
       "      <th>reviewer_id</th>\n",
       "      <th>reviewer_name</th>\n",
       "      <th>comments</th>\n",
       "    </tr>\n",
       "  </thead>\n",
       "  <tbody>\n",
       "    <tr>\n",
       "      <th>0</th>\n",
       "      <td>241032</td>\n",
       "      <td>2016-01-04</td>\n",
       "      <td>t</td>\n",
       "      <td>$85.00</td>\n",
       "      <td>682061</td>\n",
       "      <td>2011-11-01</td>\n",
       "      <td>479824</td>\n",
       "      <td>Bro</td>\n",
       "      <td>Excellent all the way around. \\r\\n\\r\\nMaija wa...</td>\n",
       "    </tr>\n",
       "    <tr>\n",
       "      <th>1</th>\n",
       "      <td>241032</td>\n",
       "      <td>2016-01-04</td>\n",
       "      <td>t</td>\n",
       "      <td>$85.00</td>\n",
       "      <td>691712</td>\n",
       "      <td>2011-11-04</td>\n",
       "      <td>357699</td>\n",
       "      <td>Megan</td>\n",
       "      <td>Maija's apartment was a wonderful place to sta...</td>\n",
       "    </tr>\n",
       "    <tr>\n",
       "      <th>2</th>\n",
       "      <td>241032</td>\n",
       "      <td>2016-01-04</td>\n",
       "      <td>t</td>\n",
       "      <td>$85.00</td>\n",
       "      <td>702999</td>\n",
       "      <td>2011-11-08</td>\n",
       "      <td>1285567</td>\n",
       "      <td>Marylee</td>\n",
       "      <td>one of the most pleasant stays i've had in my ...</td>\n",
       "    </tr>\n",
       "    <tr>\n",
       "      <th>3</th>\n",
       "      <td>241032</td>\n",
       "      <td>2016-01-04</td>\n",
       "      <td>t</td>\n",
       "      <td>$85.00</td>\n",
       "      <td>717262</td>\n",
       "      <td>2011-11-14</td>\n",
       "      <td>647857</td>\n",
       "      <td>Graham</td>\n",
       "      <td>Maija's suite is beautiful, cozy and convenien...</td>\n",
       "    </tr>\n",
       "    <tr>\n",
       "      <th>4</th>\n",
       "      <td>241032</td>\n",
       "      <td>2016-01-04</td>\n",
       "      <td>t</td>\n",
       "      <td>$85.00</td>\n",
       "      <td>730226</td>\n",
       "      <td>2011-11-19</td>\n",
       "      <td>1389821</td>\n",
       "      <td>Franka</td>\n",
       "      <td>Our stay was short and pleasant. With its own ...</td>\n",
       "    </tr>\n",
       "  </tbody>\n",
       "</table>\n",
       "</div>"
      ],
      "text/plain": [
       "   listing_id      date_x available   price      id      date_y  reviewer_id  \\\n",
       "0      241032  2016-01-04         t  $85.00  682061  2011-11-01       479824   \n",
       "1      241032  2016-01-04         t  $85.00  691712  2011-11-04       357699   \n",
       "2      241032  2016-01-04         t  $85.00  702999  2011-11-08      1285567   \n",
       "3      241032  2016-01-04         t  $85.00  717262  2011-11-14       647857   \n",
       "4      241032  2016-01-04         t  $85.00  730226  2011-11-19      1389821   \n",
       "\n",
       "  reviewer_name                                           comments  \n",
       "0           Bro  Excellent all the way around. \\r\\n\\r\\nMaija wa...  \n",
       "1         Megan  Maija's apartment was a wonderful place to sta...  \n",
       "2       Marylee  one of the most pleasant stays i've had in my ...  \n",
       "3        Graham  Maija's suite is beautiful, cozy and convenien...  \n",
       "4        Franka  Our stay was short and pleasant. With its own ...  "
      ]
     },
     "execution_count": 5,
     "metadata": {},
     "output_type": "execute_result"
    }
   ],
   "source": [
    "df_1 = pd.merge(df_calendar, df_reviews, how = 'inner', left_on = 'listing_id', right_on = 'listing_id')\n",
    "df_1.head()"
   ]
  },
  {
   "cell_type": "code",
   "execution_count": 6,
   "metadata": {},
   "outputs": [
    {
     "data": {
      "text/html": [
       "<div>\n",
       "<style scoped>\n",
       "    .dataframe tbody tr th:only-of-type {\n",
       "        vertical-align: middle;\n",
       "    }\n",
       "\n",
       "    .dataframe tbody tr th {\n",
       "        vertical-align: top;\n",
       "    }\n",
       "\n",
       "    .dataframe thead th {\n",
       "        text-align: right;\n",
       "    }\n",
       "</style>\n",
       "<table border=\"1\" class=\"dataframe\">\n",
       "  <thead>\n",
       "    <tr style=\"text-align: right;\">\n",
       "      <th></th>\n",
       "      <th>listing_id</th>\n",
       "      <th>date_x</th>\n",
       "      <th>available</th>\n",
       "      <th>price</th>\n",
       "      <th>id_x</th>\n",
       "      <th>date_y</th>\n",
       "      <th>reviewer_id</th>\n",
       "      <th>reviewer_name</th>\n",
       "      <th>comments</th>\n",
       "      <th>id_y</th>\n",
       "      <th>review_scores_value</th>\n",
       "      <th>reviews_per_month</th>\n",
       "      <th>cancellation_policy</th>\n",
       "    </tr>\n",
       "  </thead>\n",
       "  <tbody>\n",
       "    <tr>\n",
       "      <th>0</th>\n",
       "      <td>241032</td>\n",
       "      <td>2016-01-04</td>\n",
       "      <td>t</td>\n",
       "      <td>$85.00</td>\n",
       "      <td>682061</td>\n",
       "      <td>2011-11-01</td>\n",
       "      <td>479824</td>\n",
       "      <td>Bro</td>\n",
       "      <td>Excellent all the way around. \\r\\n\\r\\nMaija wa...</td>\n",
       "      <td>241032</td>\n",
       "      <td>10.0</td>\n",
       "      <td>4.07</td>\n",
       "      <td>moderate</td>\n",
       "    </tr>\n",
       "    <tr>\n",
       "      <th>1</th>\n",
       "      <td>241032</td>\n",
       "      <td>2016-01-04</td>\n",
       "      <td>t</td>\n",
       "      <td>$85.00</td>\n",
       "      <td>691712</td>\n",
       "      <td>2011-11-04</td>\n",
       "      <td>357699</td>\n",
       "      <td>Megan</td>\n",
       "      <td>Maija's apartment was a wonderful place to sta...</td>\n",
       "      <td>241032</td>\n",
       "      <td>10.0</td>\n",
       "      <td>4.07</td>\n",
       "      <td>moderate</td>\n",
       "    </tr>\n",
       "    <tr>\n",
       "      <th>2</th>\n",
       "      <td>241032</td>\n",
       "      <td>2016-01-04</td>\n",
       "      <td>t</td>\n",
       "      <td>$85.00</td>\n",
       "      <td>702999</td>\n",
       "      <td>2011-11-08</td>\n",
       "      <td>1285567</td>\n",
       "      <td>Marylee</td>\n",
       "      <td>one of the most pleasant stays i've had in my ...</td>\n",
       "      <td>241032</td>\n",
       "      <td>10.0</td>\n",
       "      <td>4.07</td>\n",
       "      <td>moderate</td>\n",
       "    </tr>\n",
       "    <tr>\n",
       "      <th>3</th>\n",
       "      <td>241032</td>\n",
       "      <td>2016-01-04</td>\n",
       "      <td>t</td>\n",
       "      <td>$85.00</td>\n",
       "      <td>717262</td>\n",
       "      <td>2011-11-14</td>\n",
       "      <td>647857</td>\n",
       "      <td>Graham</td>\n",
       "      <td>Maija's suite is beautiful, cozy and convenien...</td>\n",
       "      <td>241032</td>\n",
       "      <td>10.0</td>\n",
       "      <td>4.07</td>\n",
       "      <td>moderate</td>\n",
       "    </tr>\n",
       "    <tr>\n",
       "      <th>4</th>\n",
       "      <td>241032</td>\n",
       "      <td>2016-01-04</td>\n",
       "      <td>t</td>\n",
       "      <td>$85.00</td>\n",
       "      <td>730226</td>\n",
       "      <td>2011-11-19</td>\n",
       "      <td>1389821</td>\n",
       "      <td>Franka</td>\n",
       "      <td>Our stay was short and pleasant. With its own ...</td>\n",
       "      <td>241032</td>\n",
       "      <td>10.0</td>\n",
       "      <td>4.07</td>\n",
       "      <td>moderate</td>\n",
       "    </tr>\n",
       "  </tbody>\n",
       "</table>\n",
       "</div>"
      ],
      "text/plain": [
       "   listing_id      date_x available   price    id_x      date_y  reviewer_id  \\\n",
       "0      241032  2016-01-04         t  $85.00  682061  2011-11-01       479824   \n",
       "1      241032  2016-01-04         t  $85.00  691712  2011-11-04       357699   \n",
       "2      241032  2016-01-04         t  $85.00  702999  2011-11-08      1285567   \n",
       "3      241032  2016-01-04         t  $85.00  717262  2011-11-14       647857   \n",
       "4      241032  2016-01-04         t  $85.00  730226  2011-11-19      1389821   \n",
       "\n",
       "  reviewer_name                                           comments    id_y  \\\n",
       "0           Bro  Excellent all the way around. \\r\\n\\r\\nMaija wa...  241032   \n",
       "1         Megan  Maija's apartment was a wonderful place to sta...  241032   \n",
       "2       Marylee  one of the most pleasant stays i've had in my ...  241032   \n",
       "3        Graham  Maija's suite is beautiful, cozy and convenien...  241032   \n",
       "4        Franka  Our stay was short and pleasant. With its own ...  241032   \n",
       "\n",
       "   review_scores_value  reviews_per_month cancellation_policy  \n",
       "0                 10.0               4.07            moderate  \n",
       "1                 10.0               4.07            moderate  \n",
       "2                 10.0               4.07            moderate  \n",
       "3                 10.0               4.07            moderate  \n",
       "4                 10.0               4.07            moderate  "
      ]
     },
     "execution_count": 6,
     "metadata": {},
     "output_type": "execute_result"
    }
   ],
   "source": [
    "df = pd.merge(df_1, df_listings[['id','review_scores_value','reviews_per_month','cancellation_policy']], how = 'inner', left_on = 'listing_id', right_on = 'id')\n",
    "df.head()"
   ]
  },
  {
   "cell_type": "markdown",
   "metadata": {},
   "source": [
    "This is a very large data set, so the purpose of this assignment, I will drop a few columns that will not be used in answering the business questions. There are insights to be drawn from there if needed, such as doing sentiment analysis on comments and etc, but not for this assignment."
   ]
  },
  {
   "cell_type": "code",
   "execution_count": 7,
   "metadata": {},
   "outputs": [
    {
     "data": {
      "text/html": [
       "<div>\n",
       "<style scoped>\n",
       "    .dataframe tbody tr th:only-of-type {\n",
       "        vertical-align: middle;\n",
       "    }\n",
       "\n",
       "    .dataframe tbody tr th {\n",
       "        vertical-align: top;\n",
       "    }\n",
       "\n",
       "    .dataframe thead th {\n",
       "        text-align: right;\n",
       "    }\n",
       "</style>\n",
       "<table border=\"1\" class=\"dataframe\">\n",
       "  <thead>\n",
       "    <tr style=\"text-align: right;\">\n",
       "      <th></th>\n",
       "      <th>listing_id</th>\n",
       "      <th>date_x</th>\n",
       "      <th>available</th>\n",
       "      <th>price</th>\n",
       "      <th>date_y</th>\n",
       "      <th>reviewer_id</th>\n",
       "      <th>review_scores_value</th>\n",
       "      <th>reviews_per_month</th>\n",
       "      <th>cancellation_policy</th>\n",
       "    </tr>\n",
       "  </thead>\n",
       "  <tbody>\n",
       "    <tr>\n",
       "      <th>0</th>\n",
       "      <td>241032</td>\n",
       "      <td>2016-01-04</td>\n",
       "      <td>t</td>\n",
       "      <td>$85.00</td>\n",
       "      <td>2011-11-01</td>\n",
       "      <td>479824</td>\n",
       "      <td>10.0</td>\n",
       "      <td>4.07</td>\n",
       "      <td>moderate</td>\n",
       "    </tr>\n",
       "    <tr>\n",
       "      <th>1</th>\n",
       "      <td>241032</td>\n",
       "      <td>2016-01-04</td>\n",
       "      <td>t</td>\n",
       "      <td>$85.00</td>\n",
       "      <td>2011-11-04</td>\n",
       "      <td>357699</td>\n",
       "      <td>10.0</td>\n",
       "      <td>4.07</td>\n",
       "      <td>moderate</td>\n",
       "    </tr>\n",
       "    <tr>\n",
       "      <th>2</th>\n",
       "      <td>241032</td>\n",
       "      <td>2016-01-04</td>\n",
       "      <td>t</td>\n",
       "      <td>$85.00</td>\n",
       "      <td>2011-11-08</td>\n",
       "      <td>1285567</td>\n",
       "      <td>10.0</td>\n",
       "      <td>4.07</td>\n",
       "      <td>moderate</td>\n",
       "    </tr>\n",
       "    <tr>\n",
       "      <th>3</th>\n",
       "      <td>241032</td>\n",
       "      <td>2016-01-04</td>\n",
       "      <td>t</td>\n",
       "      <td>$85.00</td>\n",
       "      <td>2011-11-14</td>\n",
       "      <td>647857</td>\n",
       "      <td>10.0</td>\n",
       "      <td>4.07</td>\n",
       "      <td>moderate</td>\n",
       "    </tr>\n",
       "    <tr>\n",
       "      <th>4</th>\n",
       "      <td>241032</td>\n",
       "      <td>2016-01-04</td>\n",
       "      <td>t</td>\n",
       "      <td>$85.00</td>\n",
       "      <td>2011-11-19</td>\n",
       "      <td>1389821</td>\n",
       "      <td>10.0</td>\n",
       "      <td>4.07</td>\n",
       "      <td>moderate</td>\n",
       "    </tr>\n",
       "  </tbody>\n",
       "</table>\n",
       "</div>"
      ],
      "text/plain": [
       "   listing_id      date_x available   price      date_y  reviewer_id  \\\n",
       "0      241032  2016-01-04         t  $85.00  2011-11-01       479824   \n",
       "1      241032  2016-01-04         t  $85.00  2011-11-04       357699   \n",
       "2      241032  2016-01-04         t  $85.00  2011-11-08      1285567   \n",
       "3      241032  2016-01-04         t  $85.00  2011-11-14       647857   \n",
       "4      241032  2016-01-04         t  $85.00  2011-11-19      1389821   \n",
       "\n",
       "   review_scores_value  reviews_per_month cancellation_policy  \n",
       "0                 10.0               4.07            moderate  \n",
       "1                 10.0               4.07            moderate  \n",
       "2                 10.0               4.07            moderate  \n",
       "3                 10.0               4.07            moderate  \n",
       "4                 10.0               4.07            moderate  "
      ]
     },
     "execution_count": 7,
     "metadata": {},
     "output_type": "execute_result"
    }
   ],
   "source": [
    "df.drop(['id_x','id_y','comments','reviewer_name'], axis =1, inplace = True)\n",
    "df.head()"
   ]
  },
  {
   "cell_type": "code",
   "execution_count": 53,
   "metadata": {},
   "outputs": [],
   "source": [
    "# My laptop can't handle training data on this whole dataset, so for the purpose of this assignment, \n",
    "# I created a sample dataset that is small enough for my laptop. I fully understand that it will affect my model's accuracy due to the smaller sample size.\n",
    "\n",
    "df1 = df.sample(frac=0.01,random_state = 42)"
   ]
  },
  {
   "cell_type": "markdown",
   "metadata": {},
   "source": [
    "### 1. How many reviewers are there in total in this data set, what's the average reivew per listing? What's the average score?"
   ]
  },
  {
   "cell_type": "code",
   "execution_count": 48,
   "metadata": {},
   "outputs": [
    {
     "data": {
      "text/plain": [
       "65196"
      ]
     },
     "execution_count": 48,
     "metadata": {},
     "output_type": "execute_result"
    }
   ],
   "source": [
    "#To calculate the number of unique reviewers in this sample dataset\n",
    "\n",
    "df1['reviewer_id'].nunique()"
   ]
  },
  {
   "cell_type": "code",
   "execution_count": 54,
   "metadata": {},
   "outputs": [
    {
     "data": {
      "text/plain": [
       "4.08951538359963"
      ]
     },
     "execution_count": 54,
     "metadata": {},
     "output_type": "execute_result"
    }
   ],
   "source": [
    "#To calculate the average review submitted per reviewer. This could be used to analyze how much per person rating bias could be introduced with the review score.\n",
    "\n",
    "df1.shape[0]/df['reviewer_id'].nunique()"
   ]
  },
  {
   "cell_type": "code",
   "execution_count": 55,
   "metadata": {},
   "outputs": [
    {
     "data": {
      "text/plain": [
       "9.502225567212776"
      ]
     },
     "execution_count": 55,
     "metadata": {},
     "output_type": "execute_result"
    }
   ],
   "source": [
    "#This is to calculate the average scores of the dataset\n",
    "\n",
    "df1['review_scores_value'].mean()"
   ]
  },
  {
   "cell_type": "code",
   "execution_count": 56,
   "metadata": {},
   "outputs": [
    {
     "data": {
      "image/png": "[encoded data removed]",
      "text/plain": [
       "<Figure size 432x288 with 1 Axes>"
      ]
     },
     "metadata": {
      "needs_background": "light"
     },
     "output_type": "display_data"
    }
   ],
   "source": [
    "#This is to understand how scores are allocated across the range, in order to understand the spread difference\n",
    "\n",
    "fig = sns.distplot(df1['review_scores_value'], kde = False)\n",
    "plt.xlabel('Review Scores')\n",
    "plt.ylabel('Number of Reviews')\n",
    "plt.title('Review Scores')\n",
    "plt.show()"
   ]
  },
  {
   "cell_type": "markdown",
   "metadata": {},
   "source": [
    "### 2. What's the average price of the listings?"
   ]
  },
  {
   "cell_type": "code",
   "execution_count": 13,
   "metadata": {},
   "outputs": [],
   "source": [
    "df1.dropna(subset= ['price'], inplace = True)"
   ]
  },
  {
   "cell_type": "code",
   "execution_count": 14,
   "metadata": {},
   "outputs": [],
   "source": [
    "df1.reset_index(inplace = True)"
   ]
  },
  {
   "cell_type": "code",
   "execution_count": 15,
   "metadata": {},
   "outputs": [
    {
     "data": {
      "text/plain": [
       "0         $300.00\n",
       "1          $55.00\n",
       "2         $488.00\n",
       "3          $70.00\n",
       "4          $45.00\n",
       "           ...   \n",
       "224680    $105.00\n",
       "224681     $75.00\n",
       "224682    $150.00\n",
       "224683     $40.00\n",
       "224684    $120.00\n",
       "Name: price, Length: 224685, dtype: object"
      ]
     },
     "execution_count": 15,
     "metadata": {},
     "output_type": "execute_result"
    }
   ],
   "source": [
    "df1['price']"
   ]
  },
  {
   "cell_type": "code",
   "execution_count": 16,
   "metadata": {},
   "outputs": [
    {
     "data": {
      "text/plain": [
       "index                    int64\n",
       "listing_id               int64\n",
       "date_x                  object\n",
       "available               object\n",
       "price                   object\n",
       "date_y                  object\n",
       "reviewer_id              int64\n",
       "review_scores_value    float64\n",
       "reviews_per_month      float64\n",
       "cancellation_policy     object\n",
       "dtype: object"
      ]
     },
     "execution_count": 16,
     "metadata": {},
     "output_type": "execute_result"
    }
   ],
   "source": [
    "df1.dtypes"
   ]
  },
  {
   "cell_type": "markdown",
   "metadata": {},
   "source": [
    "In here, I want to clean the dataset a bit more by including prices below 100 and convert them to numeric value from object"
   ]
  },
  {
   "cell_type": "code",
   "execution_count": 17,
   "metadata": {},
   "outputs": [],
   "source": [
    "df_clean = df1.drop(df1.loc[df1['price'].str.contains(\",\")==1].index)"
   ]
  },
  {
   "cell_type": "code",
   "execution_count": 18,
   "metadata": {},
   "outputs": [],
   "source": [
    "df_clean['price']= df_clean['price'].str[1:].str[:2].astype('int')"
   ]
  },
  {
   "cell_type": "code",
   "execution_count": 19,
   "metadata": {},
   "outputs": [
    {
     "data": {
      "text/html": [
       "<div>\n",
       "<style scoped>\n",
       "    .dataframe tbody tr th:only-of-type {\n",
       "        vertical-align: middle;\n",
       "    }\n",
       "\n",
       "    .dataframe tbody tr th {\n",
       "        vertical-align: top;\n",
       "    }\n",
       "\n",
       "    .dataframe thead th {\n",
       "        text-align: right;\n",
       "    }\n",
       "</style>\n",
       "<table border=\"1\" class=\"dataframe\">\n",
       "  <thead>\n",
       "    <tr style=\"text-align: right;\">\n",
       "      <th></th>\n",
       "      <th>index</th>\n",
       "      <th>listing_id</th>\n",
       "      <th>price</th>\n",
       "      <th>reviewer_id</th>\n",
       "      <th>review_scores_value</th>\n",
       "      <th>reviews_per_month</th>\n",
       "    </tr>\n",
       "  </thead>\n",
       "  <tbody>\n",
       "    <tr>\n",
       "      <th>count</th>\n",
       "      <td>2.246200e+05</td>\n",
       "      <td>2.246200e+05</td>\n",
       "      <td>224620.000000</td>\n",
       "      <td>2.246200e+05</td>\n",
       "      <td>224542.000000</td>\n",
       "      <td>224620.000000</td>\n",
       "    </tr>\n",
       "    <tr>\n",
       "      <th>mean</th>\n",
       "      <td>1.562231e+07</td>\n",
       "      <td>2.854125e+06</td>\n",
       "      <td>47.426801</td>\n",
       "      <td>1.681687e+07</td>\n",
       "      <td>9.484747</td>\n",
       "      <td>3.615925</td>\n",
       "    </tr>\n",
       "    <tr>\n",
       "      <th>std</th>\n",
       "      <td>8.949416e+06</td>\n",
       "      <td>2.407710e+06</td>\n",
       "      <td>31.640681</td>\n",
       "      <td>1.344859e+07</td>\n",
       "      <td>0.567949</td>\n",
       "      <td>2.224391</td>\n",
       "    </tr>\n",
       "    <tr>\n",
       "      <th>min</th>\n",
       "      <td>1.900000e+01</td>\n",
       "      <td>4.291000e+03</td>\n",
       "      <td>10.000000</td>\n",
       "      <td>1.500000e+01</td>\n",
       "      <td>4.000000</td>\n",
       "      <td>0.020000</td>\n",
       "    </tr>\n",
       "    <tr>\n",
       "      <th>25%</th>\n",
       "      <td>7.828779e+06</td>\n",
       "      <td>7.692130e+05</td>\n",
       "      <td>15.000000</td>\n",
       "      <td>4.984170e+06</td>\n",
       "      <td>9.000000</td>\n",
       "      <td>1.900000</td>\n",
       "    </tr>\n",
       "    <tr>\n",
       "      <th>50%</th>\n",
       "      <td>1.563820e+07</td>\n",
       "      <td>2.260626e+06</td>\n",
       "      <td>49.000000</td>\n",
       "      <td>1.389625e+07</td>\n",
       "      <td>10.000000</td>\n",
       "      <td>3.250000</td>\n",
       "    </tr>\n",
       "    <tr>\n",
       "      <th>75%</th>\n",
       "      <td>2.345269e+07</td>\n",
       "      <td>4.384343e+06</td>\n",
       "      <td>75.000000</td>\n",
       "      <td>2.735218e+07</td>\n",
       "      <td>10.000000</td>\n",
       "      <td>4.930000</td>\n",
       "    </tr>\n",
       "    <tr>\n",
       "      <th>max</th>\n",
       "      <td>3.096988e+07</td>\n",
       "      <td>1.002022e+07</td>\n",
       "      <td>99.000000</td>\n",
       "      <td>5.279073e+07</td>\n",
       "      <td>10.000000</td>\n",
       "      <td>12.150000</td>\n",
       "    </tr>\n",
       "  </tbody>\n",
       "</table>\n",
       "</div>"
      ],
      "text/plain": [
       "              index    listing_id          price   reviewer_id  \\\n",
       "count  2.246200e+05  2.246200e+05  224620.000000  2.246200e+05   \n",
       "mean   1.562231e+07  2.854125e+06      47.426801  1.681687e+07   \n",
       "std    8.949416e+06  2.407710e+06      31.640681  1.344859e+07   \n",
       "min    1.900000e+01  4.291000e+03      10.000000  1.500000e+01   \n",
       "25%    7.828779e+06  7.692130e+05      15.000000  4.984170e+06   \n",
       "50%    1.563820e+07  2.260626e+06      49.000000  1.389625e+07   \n",
       "75%    2.345269e+07  4.384343e+06      75.000000  2.735218e+07   \n",
       "max    3.096988e+07  1.002022e+07      99.000000  5.279073e+07   \n",
       "\n",
       "       review_scores_value  reviews_per_month  \n",
       "count        224542.000000      224620.000000  \n",
       "mean              9.484747           3.615925  \n",
       "std               0.567949           2.224391  \n",
       "min               4.000000           0.020000  \n",
       "25%               9.000000           1.900000  \n",
       "50%              10.000000           3.250000  \n",
       "75%              10.000000           4.930000  \n",
       "max              10.000000          12.150000  "
      ]
     },
     "execution_count": 19,
     "metadata": {},
     "output_type": "execute_result"
    }
   ],
   "source": [
    "df_clean.describe()"
   ]
  },
  {
   "cell_type": "markdown",
   "metadata": {},
   "source": [
    "The average price in this dataset of airbnbs is $47.42"
   ]
  },
  {
   "cell_type": "markdown",
   "metadata": {},
   "source": [
    "## 3. Use categorical and numeric values to predict the price of the airbnb"
   ]
  },
  {
   "cell_type": "code",
   "execution_count": 20,
   "metadata": {},
   "outputs": [
    {
     "data": {
      "text/html": [
       "<div>\n",
       "<style scoped>\n",
       "    .dataframe tbody tr th:only-of-type {\n",
       "        vertical-align: middle;\n",
       "    }\n",
       "\n",
       "    .dataframe tbody tr th {\n",
       "        vertical-align: top;\n",
       "    }\n",
       "\n",
       "    .dataframe thead th {\n",
       "        text-align: right;\n",
       "    }\n",
       "</style>\n",
       "<table border=\"1\" class=\"dataframe\">\n",
       "  <thead>\n",
       "    <tr style=\"text-align: right;\">\n",
       "      <th></th>\n",
       "      <th>index</th>\n",
       "      <th>listing_id</th>\n",
       "      <th>date_x</th>\n",
       "      <th>available</th>\n",
       "      <th>price</th>\n",
       "      <th>date_y</th>\n",
       "      <th>reviewer_id</th>\n",
       "      <th>review_scores_value</th>\n",
       "      <th>reviews_per_month</th>\n",
       "      <th>cancellation_policy</th>\n",
       "    </tr>\n",
       "  </thead>\n",
       "  <tbody>\n",
       "    <tr>\n",
       "      <th>0</th>\n",
       "      <td>28650764</td>\n",
       "      <td>1547337</td>\n",
       "      <td>2016-09-11</td>\n",
       "      <td>t</td>\n",
       "      <td>30</td>\n",
       "      <td>2014-10-14</td>\n",
       "      <td>1200752</td>\n",
       "      <td>9.0</td>\n",
       "      <td>1.99</td>\n",
       "      <td>strict</td>\n",
       "    </tr>\n",
       "    <tr>\n",
       "      <th>1</th>\n",
       "      <td>24414076</td>\n",
       "      <td>975179</td>\n",
       "      <td>2016-06-05</td>\n",
       "      <td>t</td>\n",
       "      <td>55</td>\n",
       "      <td>2016-01-01</td>\n",
       "      <td>50874405</td>\n",
       "      <td>9.0</td>\n",
       "      <td>4.93</td>\n",
       "      <td>moderate</td>\n",
       "    </tr>\n",
       "    <tr>\n",
       "      <th>2</th>\n",
       "      <td>8715403</td>\n",
       "      <td>934216</td>\n",
       "      <td>2016-08-06</td>\n",
       "      <td>t</td>\n",
       "      <td>48</td>\n",
       "      <td>2015-06-03</td>\n",
       "      <td>33897961</td>\n",
       "      <td>9.0</td>\n",
       "      <td>0.68</td>\n",
       "      <td>strict</td>\n",
       "    </tr>\n",
       "    <tr>\n",
       "      <th>3</th>\n",
       "      <td>804226</td>\n",
       "      <td>2487892</td>\n",
       "      <td>2016-09-29</td>\n",
       "      <td>t</td>\n",
       "      <td>70</td>\n",
       "      <td>2014-11-23</td>\n",
       "      <td>22930591</td>\n",
       "      <td>10.0</td>\n",
       "      <td>3.46</td>\n",
       "      <td>flexible</td>\n",
       "    </tr>\n",
       "    <tr>\n",
       "      <th>4</th>\n",
       "      <td>381240</td>\n",
       "      <td>3200646</td>\n",
       "      <td>2016-11-11</td>\n",
       "      <td>t</td>\n",
       "      <td>45</td>\n",
       "      <td>2015-04-13</td>\n",
       "      <td>28414832</td>\n",
       "      <td>9.0</td>\n",
       "      <td>4.38</td>\n",
       "      <td>strict</td>\n",
       "    </tr>\n",
       "  </tbody>\n",
       "</table>\n",
       "</div>"
      ],
      "text/plain": [
       "      index  listing_id      date_x available  price      date_y  reviewer_id  \\\n",
       "0  28650764     1547337  2016-09-11         t     30  2014-10-14      1200752   \n",
       "1  24414076      975179  2016-06-05         t     55  2016-01-01     50874405   \n",
       "2   8715403      934216  2016-08-06         t     48  2015-06-03     33897961   \n",
       "3    804226     2487892  2016-09-29         t     70  2014-11-23     22930591   \n",
       "4    381240     3200646  2016-11-11         t     45  2015-04-13     28414832   \n",
       "\n",
       "   review_scores_value  reviews_per_month cancellation_policy  \n",
       "0                  9.0               1.99              strict  \n",
       "1                  9.0               4.93            moderate  \n",
       "2                  9.0               0.68              strict  \n",
       "3                 10.0               3.46            flexible  \n",
       "4                  9.0               4.38              strict  "
      ]
     },
     "execution_count": 20,
     "metadata": {},
     "output_type": "execute_result"
    }
   ],
   "source": [
    "df_clean.head()"
   ]
  },
  {
   "cell_type": "code",
   "execution_count": 21,
   "metadata": {},
   "outputs": [],
   "source": [
    "df_price = df_clean.drop(columns = ['index', 'listing_id', 'date_x', 'available', 'date_y'])"
   ]
  },
  {
   "cell_type": "code",
   "execution_count": 22,
   "metadata": {},
   "outputs": [
    {
     "data": {
      "text/html": [
       "<div>\n",
       "<style scoped>\n",
       "    .dataframe tbody tr th:only-of-type {\n",
       "        vertical-align: middle;\n",
       "    }\n",
       "\n",
       "    .dataframe tbody tr th {\n",
       "        vertical-align: top;\n",
       "    }\n",
       "\n",
       "    .dataframe thead th {\n",
       "        text-align: right;\n",
       "    }\n",
       "</style>\n",
       "<table border=\"1\" class=\"dataframe\">\n",
       "  <thead>\n",
       "    <tr style=\"text-align: right;\">\n",
       "      <th></th>\n",
       "      <th>price</th>\n",
       "      <th>reviewer_id</th>\n",
       "      <th>review_scores_value</th>\n",
       "      <th>reviews_per_month</th>\n",
       "      <th>cancellation_policy</th>\n",
       "    </tr>\n",
       "  </thead>\n",
       "  <tbody>\n",
       "    <tr>\n",
       "      <th>0</th>\n",
       "      <td>30</td>\n",
       "      <td>1200752</td>\n",
       "      <td>9.0</td>\n",
       "      <td>1.99</td>\n",
       "      <td>strict</td>\n",
       "    </tr>\n",
       "    <tr>\n",
       "      <th>1</th>\n",
       "      <td>55</td>\n",
       "      <td>50874405</td>\n",
       "      <td>9.0</td>\n",
       "      <td>4.93</td>\n",
       "      <td>moderate</td>\n",
       "    </tr>\n",
       "    <tr>\n",
       "      <th>2</th>\n",
       "      <td>48</td>\n",
       "      <td>33897961</td>\n",
       "      <td>9.0</td>\n",
       "      <td>0.68</td>\n",
       "      <td>strict</td>\n",
       "    </tr>\n",
       "    <tr>\n",
       "      <th>3</th>\n",
       "      <td>70</td>\n",
       "      <td>22930591</td>\n",
       "      <td>10.0</td>\n",
       "      <td>3.46</td>\n",
       "      <td>flexible</td>\n",
       "    </tr>\n",
       "    <tr>\n",
       "      <th>4</th>\n",
       "      <td>45</td>\n",
       "      <td>28414832</td>\n",
       "      <td>9.0</td>\n",
       "      <td>4.38</td>\n",
       "      <td>strict</td>\n",
       "    </tr>\n",
       "  </tbody>\n",
       "</table>\n",
       "</div>"
      ],
      "text/plain": [
       "   price  reviewer_id  review_scores_value  reviews_per_month  \\\n",
       "0     30      1200752                  9.0               1.99   \n",
       "1     55     50874405                  9.0               4.93   \n",
       "2     48     33897961                  9.0               0.68   \n",
       "3     70     22930591                 10.0               3.46   \n",
       "4     45     28414832                  9.0               4.38   \n",
       "\n",
       "  cancellation_policy  \n",
       "0              strict  \n",
       "1            moderate  \n",
       "2              strict  \n",
       "3            flexible  \n",
       "4              strict  "
      ]
     },
     "execution_count": 22,
     "metadata": {},
     "output_type": "execute_result"
    }
   ],
   "source": [
    "df_price.head()"
   ]
  },
  {
   "cell_type": "code",
   "execution_count": 23,
   "metadata": {},
   "outputs": [
    {
     "data": {
      "text/plain": [
       "price                   0\n",
       "reviewer_id             0\n",
       "review_scores_value    78\n",
       "reviews_per_month       0\n",
       "cancellation_policy     0\n",
       "dtype: int64"
      ]
     },
     "execution_count": 23,
     "metadata": {},
     "output_type": "execute_result"
    }
   ],
   "source": [
    "df_price.isna().sum()"
   ]
  },
  {
   "cell_type": "code",
   "execution_count": 27,
   "metadata": {},
   "outputs": [],
   "source": [
    "df_price['review_scores_value'].fillna(df_price['review_scores_value'].mean(), inplace = True)"
   ]
  },
  {
   "cell_type": "code",
   "execution_count": 28,
   "metadata": {},
   "outputs": [
    {
     "data": {
      "text/plain": [
       "price                  0\n",
       "reviewer_id            0\n",
       "review_scores_value    0\n",
       "reviews_per_month      0\n",
       "cancellation_policy    0\n",
       "dtype: int64"
      ]
     },
     "execution_count": 28,
     "metadata": {},
     "output_type": "execute_result"
    }
   ],
   "source": [
    "df_price.isna().sum()"
   ]
  },
  {
   "cell_type": "code",
   "execution_count": 32,
   "metadata": {},
   "outputs": [],
   "source": [
    "df_lm = pd.get_dummies(df_price)"
   ]
  },
  {
   "cell_type": "code",
   "execution_count": 33,
   "metadata": {},
   "outputs": [
    {
     "data": {
      "text/plain": [
       "0.052521495680188046"
      ]
     },
     "execution_count": 33,
     "metadata": {},
     "output_type": "execute_result"
    }
   ],
   "source": [
    "X = df_lm.drop(columns = ['price'])\n",
    "y = df_lm['price']\n",
    "\n",
    "X_train, X_test, y_train, y_test = train_test_split(X, y, test_size=0.2, random_state=42)\n",
    "\n",
    "lm = LinearRegression(normalize = True)\n",
    "\n",
    "lm.fit(X_train, y_train)\n",
    "\n",
    "lm.score(X_test, y_test)"
   ]
  },
  {
   "cell_type": "markdown",
   "metadata": {},
   "source": [
    "There could be two reasons why this result is not good. The first is that perhaps review score, cancellation policies and etc are not strong indicators of price. The second could be that we are only using 1% of the overall dataset, so we are drawing conclusions based on very limited data. Since this is an assignment used to demonstrate the skills not a real-life business case where results are important, the 0.05 r square score is acceptable."
   ]
  }
 ],
 "metadata": {
  "kernelspec": {
   "display_name": "Python 3",
   "language": "python",
   "name": "python3"
  },
  "language_info": {
   "codemirror_mode": {
    "name": "ipython",
    "version": 3
   },
   "file_extension": ".py",
   "mimetype": "text/x-python",
   "name": "python",
   "nbconvert_exporter": "python",
   "pygments_lexer": "ipython3",
   "version": "3.7.6"
  }
 },
 "nbformat": 4,
 "nbformat_minor": 4
}
